{
 "cells": [
  {
   "cell_type": "code",
   "execution_count": 1,
   "metadata": {},
   "outputs": [],
   "source": [
    "import findspark\n",
    "findspark.init()"
   ]
  },
  {
   "cell_type": "code",
   "execution_count": 4,
   "metadata": {},
   "outputs": [
    {
     "data": {
      "text/html": [
       "\n",
       "            <div>\n",
       "                <p><b>SparkSession - in-memory</b></p>\n",
       "                \n",
       "        <div>\n",
       "            <p><b>SparkContext</b></p>\n",
       "\n",
       "            <p><a href=\"http://VITCC51662:4040\">Spark UI</a></p>\n",
       "\n",
       "            <dl>\n",
       "              <dt>Version</dt>\n",
       "                <dd><code>v3.0.2</code></dd>\n",
       "              <dt>Master</dt>\n",
       "                <dd><code>local[2]</code></dd>\n",
       "              <dt>AppName</dt>\n",
       "                <dd><code>MyApp</code></dd>\n",
       "            </dl>\n",
       "        </div>\n",
       "        \n",
       "            </div>\n",
       "        "
      ],
      "text/plain": [
       "<pyspark.sql.session.SparkSession at 0x1e00b3cfc88>"
      ]
     },
     "execution_count": 4,
     "metadata": {},
     "output_type": "execute_result"
    }
   ],
   "source": [
    "import pyspark\n",
    "from pyspark.sql import SparkSession\n",
    "spark = SparkSession.builder.master(\"local[2]\").appName(\"MyApp\").getOrCreate()\n",
    "spark"
   ]
  },
  {
   "cell_type": "code",
   "execution_count": 9,
   "metadata": {},
   "outputs": [
    {
     "name": "stdout",
     "output_type": "stream",
     "text": [
      "+---+----+---------+\n",
      "| id|name|     city|\n",
      "+---+----+---------+\n",
      "|  1| abc|  chennai|\n",
      "|  2| pqr|bangalore|\n",
      "+---+----+---------+\n",
      "\n",
      "root\n",
      " |-- id: integer (nullable = true)\n",
      " |-- name: string (nullable = true)\n",
      " |-- city: string (nullable = true)\n",
      "\n"
     ]
    }
   ],
   "source": [
    "csvdf = spark.read.format(\"csv\").option(\"header\",True).option(\"inferSchema\",True).load(\"e:\\\\vit\\\\big data\\\\file\\\\sample.csv\")\n",
    "csvdf.show()\n",
    "csvdf.printSchema()"
   ]
  },
  {
   "cell_type": "code",
   "execution_count": 14,
   "metadata": {},
   "outputs": [
    {
     "name": "stdout",
     "output_type": "stream",
     "text": [
      "+---------+---+-----+\n",
      "|     city| id|score|\n",
      "+---------+---+-----+\n",
      "|    delhi|  1|  2.1|\n",
      "|  chennai|  3|  2.1|\n",
      "|bangalore|  2|  2.1|\n",
      "+---------+---+-----+\n",
      "\n"
     ]
    }
   ],
   "source": [
    "jsondf = spark.read.format(\"json\").load(\"e:\\\\vit\\\\big data\\\\file\\\\samplejson.json\")\n",
    "jsondf.show()\n",
    "jsondf.createOrReplaceTempView(\"json_table\")\n",
    "result = spark.sql('select * from json_table where city=\"delhi\"')\n",
    "result.write.format(\"csv\").option(\"delimiter\",\"\\t\").save(\"e:\\\\vit\\\\big data\\\\file\\\\samplejson_out\")"
   ]
  },
  {
   "cell_type": "code",
   "execution_count": 18,
   "metadata": {},
   "outputs": [
    {
     "name": "stdout",
     "output_type": "stream",
     "text": [
      "005 0a56ad05 00:01:12SUCCESS 12345678\n",
      "006 0a56ad05 00:01:12DROPPED 12342678\n",
      "007 0a56ad05 00:01:12SUCCESS 12345678\n",
      "008 0a56ad05 00:01:12SUCCESS 02345678\n",
      "009 0a56ad05 00:01:12SUCCESS 12345675\n",
      "(<re.Match object; span=(0, 3), match='005'>, ('SUCCESS',), <re.Match object; span=(29, 37), match='12345678'>)\n",
      "(<re.Match object; span=(0, 3), match='006'>, ('DROPPED',), <re.Match object; span=(29, 37), match='12342678'>)\n",
      "(<re.Match object; span=(0, 3), match='007'>, ('SUCCESS',), <re.Match object; span=(29, 37), match='12345678'>)\n",
      "(<re.Match object; span=(0, 3), match='008'>, ('SUCCESS',), <re.Match object; span=(29, 37), match='02345678'>)\n",
      "(<re.Match object; span=(0, 3), match='009'>, ('SUCCESS',), <re.Match object; span=(29, 37), match='12345675'>)\n",
      "(<re.Match object; span=(0, 3), match='011'>, ('SUCCESS',), <re.Match object; span=(29, 37), match='12345671'>)\n",
      "(<re.Match object; span=(0, 3), match='012'>, ('FAILED',), <re.Match object; span=(28, 36), match='12345278'>)\n",
      "(<re.Match object; span=(0, 3), match='013'>, ('SUCCESS',), <re.Match object; span=(29, 37), match='12345478'>)\n",
      "(<re.Match object; span=(0, 3), match='014'>, ('SUCCESS',), <re.Match object; span=(29, 37), match='12345678'>)\n",
      "(<re.Match object; span=(0, 3), match='015'>, ('SUCCESS',), <re.Match object; span=(29, 37), match='12345671'>)\n",
      "(<re.Match object; span=(0, 3), match='016'>, ('FAILED',), <re.Match object; span=(28, 36), match='12345678'>)\n",
      "(<re.Match object; span=(0, 3), match='017'>, ('SUCCESS',), <re.Match object; span=(29, 37), match='12345678'>)\n",
      "(<re.Match object; span=(0, 3), match='018'>, ('SUCCESS',), <re.Match object; span=(29, 37), match='12345673'>)\n",
      "(<re.Match object; span=(0, 3), match='019'>, ('SUCCESS',), <re.Match object; span=(29, 37), match='12305678'>)\n",
      "(<re.Match object; span=(0, 3), match='020'>, ('SUCCESS',), <re.Match object; span=(29, 37), match='12345678'>)\n",
      "(<re.Match object; span=(0, 3), match='021'>, ('FAILED',), <re.Match object; span=(28, 36), match='12345678'>)\n",
      "(<re.Match object; span=(0, 3), match='022'>, ('SUCCESS',), <re.Match object; span=(29, 37), match='12345099'>)\n",
      "(<re.Match object; span=(0, 3), match='023'>, ('SUCCESS',), <re.Match object; span=(29, 37), match='12345678'>)\n",
      "(<re.Match object; span=(0, 3), match='024'>, ('SUCCESS',), <re.Match object; span=(29, 37), match='12345678'>)\n",
      "(<re.Match object; span=(0, 3), match='025'>, ('FAILED',), <re.Match object; span=(28, 36), match='12345678'>)\n"
     ]
    }
   ],
   "source": [
    "rd1 = spark.sparkContext.textFile(\"e:\\\\vit\\\\big data\\\\file\\\\sampletxt.txt\")\n",
    "for i in rd1.take(5):\n",
    "    print(i)\n",
    "import re\n",
    "def extract(rec):\n",
    "    sno_pattern = re.compile(\"\\d{3}\")\n",
    "    status_pattern = re.compile(\"(DROPPED|SUCCESS|FAILED)\")\n",
    "    phone_pattern = re.compile(\"\\d{8}\")\n",
    "    sno = sno_pattern.search(rec)\n",
    "    status = status_pattern.search(rec).groups()\n",
    "    phone = phone_pattern.search(rec)\n",
    "\n",
    "    return(sno,status,phone)\n",
    "for i in rd1.take(20):\n",
    "    print(extract(i))"
   ]
  },
  {
   "cell_type": "code",
   "execution_count": null,
   "metadata": {},
   "outputs": [],
   "source": []
  }
 ],
 "metadata": {
  "kernelspec": {
   "display_name": "Python 3",
   "language": "python",
   "name": "python3"
  },
  "language_info": {
   "codemirror_mode": {
    "name": "ipython",
    "version": 3
   },
   "file_extension": ".py",
   "mimetype": "text/x-python",
   "name": "python",
   "nbconvert_exporter": "python",
   "pygments_lexer": "ipython3",
   "version": "3.7.0"
  }
 },
 "nbformat": 4,
 "nbformat_minor": 2
}
